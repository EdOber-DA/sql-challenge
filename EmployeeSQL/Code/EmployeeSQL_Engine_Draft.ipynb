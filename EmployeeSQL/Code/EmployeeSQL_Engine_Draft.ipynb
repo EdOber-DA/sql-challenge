{
 "cells": [
  {
   "cell_type": "code",
   "execution_count": 1,
   "metadata": {},
   "outputs": [],
   "source": [
    "# Dependencies\n",
    "# ----------------------------------\n",
    "# Imports the method used for connecting to DBs\n",
    "from sqlalchemy import create_engine\n",
    "\n",
    "# Imports the methods needed to abstract classes into tables\n",
    "from sqlalchemy.ext.declarative import declarative_base\n",
    "\n",
    "# Allow us to declare column types\n",
    "from sqlalchemy import Column, Integer, String, Float, ForeignKey, Table \n",
    "\n",
    "from sqlalchemy.orm import relationship\n",
    "\n",
    "# Sets an object to utilize the default declarative base in SQL Alchemy\n",
    "Base = declarative_base()\n",
    "\n",
    "# Pandas\n",
    "import pandas as pd"
   ]
  },
  {
   "cell_type": "code",
   "execution_count": 2,
   "metadata": {},
   "outputs": [],
   "source": [
    "# Set up the engine and connection...\n",
    "# Get the password securely\n",
    "password=input('please input password for database connection')\n",
    "connectstring='postgresql+psycopg2://postgres:'+ password + '@localhost:5432/sql-challenge'\n",
    "\n",
    "engine = create_engine(connectstring) \n",
    "conn = engine.connect()  "
   ]
  },
  {
   "cell_type": "code",
   "execution_count": 3,
   "metadata": {},
   "outputs": [],
   "source": [
    "# Create a \"Metadata\" Layer That Abstracts our SQL Database\n",
    "# ----------------------------------\n",
    "# Use this to clear out the db\n",
    "# ----------------------------------\n",
    "Base.metadata.drop_all(engine)\n",
    "\n",
    "# Create (if not already in existence) the tables associated with our classes.\n",
    "Base.metadata.create_all(engine)\n",
    "\n",
    "# Create a Session Object to Connect to DB\n",
    "# ----------------------------------\n",
    "# Session is a temporary binding to our DB\n",
    "from sqlalchemy.orm import Session\n",
    "session = Session(bind=engine)"
   ]
  },
  {
   "cell_type": "code",
   "execution_count": 12,
   "metadata": {},
   "outputs": [],
   "source": [
    "# Load pandas from the sql-challenge database \n",
    "department_pd = pd.read_sql(\"SELECT * FROM department\", conn)\n",
    "department_employee_pd = pd.read_sql(\"SELECT * FROM department_employee\", conn)\n",
    "department_manager_pd =  pd.read_sql(\"SELECT * FROM department_manager\", conn)\n",
    "title_pd =  pd.read_sql(\"SELECT * FROM title\", conn)\n",
    "salary_pd =  pd.read_sql(\"SELECT * FROM salary\", conn)\n",
    "employee_pd =  pd.read_sql(\"SELECT * FROM employee\", conn)"
   ]
  },
  {
   "cell_type": "code",
   "execution_count": 13,
   "metadata": {},
   "outputs": [
    {
     "output_type": "stream",
     "name": "stdout",
     "text": [
      "department_number    9\ndepartment_name      9\ndtype: int64\nemployee_number      331603\ndepartment_number    331603\ndtype: int64\ndepartment_number    24\nemployee_number      24\ndtype: int64\ntitle_id    7\ntitle       7\ndtype: int64\nemployee_number    300024\nsalary             300024\ndtype: int64\nemployee_number      300024\nemployee_title_id    300024\nbirth_date           300024\nfirst_name           300024\nlast_name            300024\ngender               300024\nhire_date            300024\ndtype: int64\n"
     ]
    }
   ],
   "source": [
    "print(department_pd.count())\n",
    "print(department_employee_pd.count())\n",
    "print(department_manager_pd.count())\n",
    "print(title_pd.count())\n",
    "print(salary_pd.count())\n",
    "print(employee_pd.count())\n"
   ]
  },
  {
   "cell_type": "code",
   "execution_count": null,
   "metadata": {},
   "outputs": [],
   "source": []
  }
 ],
 "metadata": {
  "kernelspec": {
   "display_name": "Python 3",
   "language": "python",
   "name": "python3"
  },
  "language_info": {
   "codemirror_mode": {
    "name": "ipython",
    "version": 3
   },
   "file_extension": ".py",
   "mimetype": "text/x-python",
   "name": "python",
   "nbconvert_exporter": "python",
   "pygments_lexer": "ipython3",
   "version": "3.8.5-final"
  }
 },
 "nbformat": 4,
 "nbformat_minor": 4
}